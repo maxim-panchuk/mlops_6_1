{
 "cells": [
  {
   "cell_type": "markdown",
   "id": "c5f1e0f0",
   "metadata": {},
   "source": [
    "### Инициализация"
   ]
  },
  {
   "cell_type": "code",
   "execution_count": 1,
   "id": "a47eff0e",
   "metadata": {},
   "outputs": [],
   "source": [
    "from pyspark.sql import SparkSession"
   ]
  },
  {
   "cell_type": "code",
   "execution_count": 2,
   "id": "89e74697",
   "metadata": {},
   "outputs": [
    {
     "name": "stderr",
     "output_type": "stream",
     "text": [
      "25/05/12 16:58:24 WARN Utils: Your hostname, Maksims-MacBook-Pro.local resolves to a loopback address: 127.0.0.1; using 192.168.31.84 instead (on interface en0)\n",
      "25/05/12 16:58:24 WARN Utils: Set SPARK_LOCAL_IP if you need to bind to another address\n",
      "25/05/12 16:58:24 WARN NativeCodeLoader: Unable to load native-hadoop library for your platform... using builtin-java classes where applicable\n",
      "Setting default log level to \"WARN\".\n",
      "To adjust logging level use sc.setLogLevel(newLevel). For SparkR, use setLogLevel(newLevel).\n"
     ]
    }
   ],
   "source": [
    "JDBC_PATH = '/Users/panchescosenior/sparkdata/clickhouse-jdbc-0.4.6-shaded.jar'\n",
    "\n",
    "spark = SparkSession.builder \\\n",
    "    .master(\"local[*]\") \\\n",
    "    .config(\"spark.driver.memory\", \"8g\") \\\n",
    "    .config(\"spark.jars\", JDBC_PATH) \\\n",
    "    .getOrCreate()\n",
    "\n",
    "sc = spark.sparkContext    "
   ]
  },
  {
   "cell_type": "code",
   "execution_count": 6,
   "id": "3bd87838",
   "metadata": {},
   "outputs": [
    {
     "name": "stderr",
     "output_type": "stream",
     "text": [
      "                                                                                \r"
     ]
    }
   ],
   "source": [
    "csv_path = '/Users/panchescosenior/sparkdata/en.openfoodfacts.org.products.csv'\n",
    "\n",
    "df = spark.read.option(\"delimiter\", \"\\t\") \\\n",
    "    .csv(csv_path, header=True, inferSchema=True)"
   ]
  },
  {
   "cell_type": "code",
   "execution_count": 7,
   "id": "125cc4c3",
   "metadata": {},
   "outputs": [
    {
     "name": "stderr",
     "output_type": "stream",
     "text": [
      "[Stage 2:==================================================>      (73 + 9) / 82]\r"
     ]
    },
    {
     "name": "stdout",
     "output_type": "stream",
     "text": [
      "rows: 3803302, cols: 209\n"
     ]
    },
    {
     "name": "stderr",
     "output_type": "stream",
     "text": [
      "                                                                                \r"
     ]
    }
   ],
   "source": [
    "print(f'rows: {df.count()}, cols: {len(df.columns)}')"
   ]
  },
  {
   "cell_type": "markdown",
   "id": "21e9072f",
   "metadata": {},
   "source": [
    "### Выделяю самые полезные признаки"
   ]
  },
  {
   "cell_type": "code",
   "execution_count": 8,
   "id": "4f9bbb59",
   "metadata": {},
   "outputs": [],
   "source": [
    "features = [\n",
    "    'energy_kcal_100g', \n",
    "    'fat_100g', \n",
    "    'saturated_fat_100g', \n",
    "    'carbohydrates_100g', \n",
    "    'sugars_100g', \n",
    "    'proteins_100g', \n",
    "    'fiber_100g', \n",
    "    'salt_100g'\n",
    "]"
   ]
  },
  {
   "cell_type": "code",
   "execution_count": null,
   "id": "a8c93997",
   "metadata": {},
   "outputs": [],
   "source": [
    "df = df.select(*features)\n",
    "df.show(5)"
   ]
  },
  {
   "cell_type": "markdown",
   "id": "2bc9e389",
   "metadata": {},
   "source": [
    "### Оставляю только строки без NULL"
   ]
  },
  {
   "cell_type": "code",
   "execution_count": 9,
   "id": "9d1cbebf",
   "metadata": {},
   "outputs": [
    {
     "name": "stdout",
     "output_type": "stream",
     "text": [
      "+----------------+--------+------------------+------------------+-----------+-------------+----------+---------+\n",
      "|energy-kcal_100g|fat_100g|saturated-fat_100g|carbohydrates_100g|sugars_100g|proteins_100g|fiber_100g|salt_100g|\n",
      "+----------------+--------+------------------+------------------+-----------+-------------+----------+---------+\n",
      "|           141.0|     2.7|               0.6|               0.9|        6.2|         30.0|       2.2|      0.4|\n",
      "|           100.0|     0.0|               0.0|              26.0|       15.0|          1.0|       3.0|      0.0|\n",
      "|           376.0|     1.6|               0.2|               6.7|        1.3|         82.0|       2.9|      1.7|\n",
      "|           230.0|    11.0|               2.0|              25.0|       0.98|         22.0|       9.0|     0.95|\n",
      "|             1.0|     1.0|               1.0|               1.0|        1.0|          1.0|       1.0|      1.0|\n",
      "+----------------+--------+------------------+------------------+-----------+-------------+----------+---------+\n",
      "only showing top 5 rows\n",
      "\n"
     ]
    }
   ],
   "source": [
    "df = df.na.drop()\n",
    "df.show(5)"
   ]
  },
  {
   "cell_type": "code",
   "execution_count": 10,
   "id": "a99059eb",
   "metadata": {},
   "outputs": [],
   "source": [
    "LIMIT = 300000\n",
    "df = df.limit(LIMIT)"
   ]
  },
  {
   "cell_type": "code",
   "execution_count": null,
   "id": "2e4403d8",
   "metadata": {},
   "outputs": [],
   "source": [
    "print(f'rows: {df.count()}, cols: {len(df.columns)}')"
   ]
  },
  {
   "cell_type": "markdown",
   "id": "0f0b0ca2",
   "metadata": {},
   "source": [
    "###  Фильтрация выбросов"
   ]
  },
  {
   "cell_type": "code",
   "execution_count": 12,
   "id": "5eec493d",
   "metadata": {},
   "outputs": [],
   "source": [
    "from pyspark.sql.functions import col, lit\n",
    "from functools import reduce\n",
    "\n",
    "columns_to_check = [c for c in features if c != 'energy-kcal_100g']\n",
    "threshold = 100\n",
    "max_kcal_per_100g = 900\n",
    "\n",
    "filter_condition = reduce(\n",
    "    lambda acc, c: acc & (col(c) < threshold),\n",
    "    columns_to_check,\n",
    "    lit(True)\n",
    ")\n",
    "\n",
    "energy_condition = col(\"energy-kcal_100g\") < max_kcal_per_100g\n",
    "\n",
    "positive_condition = reduce(\n",
    "    lambda acc, c: acc & (col(c) > 0),\n",
    "    columns_to_check + [\"energy-kcal_100g\"],\n",
    "    lit(True)\n",
    ")\n",
    "\n",
    "df = df.filter(\n",
    "    filter_condition &\n",
    "    energy_condition &\n",
    "    positive_condition\n",
    ")"
   ]
  },
  {
   "cell_type": "code",
   "execution_count": 13,
   "id": "b97054fa",
   "metadata": {},
   "outputs": [
    {
     "name": "stderr",
     "output_type": "stream",
     "text": [
      "                                                                                \r"
     ]
    },
    {
     "data": {
      "image/png": "[encoded data removed]",
      "text/plain": [
       "<Figure size 1400x600 with 1 Axes>"
      ]
     },
     "metadata": {},
     "output_type": "display_data"
    }
   ],
   "source": [
    "import matplotlib.pyplot as plt\n",
    "import seaborn as sns  \n",
    "\n",
    "plt.figure(figsize=(14, 6))\n",
    "sns.boxplot(\n",
    "    data=df.toPandas())\n",
    "plt.show()"
   ]
  },
  {
   "cell_type": "markdown",
   "id": "915e84bc",
   "metadata": {},
   "source": [
    "### Сохраняю обработанные данные в ClickHouse"
   ]
  },
  {
   "cell_type": "code",
   "execution_count": 18,
   "id": "8745d620",
   "metadata": {},
   "outputs": [
    {
     "data": {
      "text/plain": [
       "<clickhouse_connect.driver.summary.QuerySummary at 0x356fe9db0>"
      ]
     },
     "execution_count": 18,
     "metadata": {},
     "output_type": "execute_result"
    }
   ],
   "source": [
    "from clickhouse_connect import get_client\n",
    "\n",
    "pdf = df.toPandas()\n",
    "pdf.columns = [col.replace('-', '_') for col in pdf.columns]\n",
    "\n",
    "client = get_client(host='localhost', port=8123, username='mluser', password='superpass')\n",
    "\n",
    "client.command(\"\"\"\n",
    "CREATE TABLE IF NOT EXISTS food_features (\n",
    "    energy_kcal_100g Float32,\n",
    "    fat_100g Float32,\n",
    "    saturated_fat_100g Float32,\n",
    "    carbohydrates_100g Float32,\n",
    "    sugars_100g Float32,\n",
    "    proteins_100g Float32,\n",
    "    fiber_100g Float32,\n",
    "    salt_100g Float32\n",
    ") ENGINE = MergeTree()\n",
    "ORDER BY tuple()\n",
    "\"\"\")\n",
    "\n",
    "client.insert_df('food_features', pdf)"
   ]
  },
  {
   "cell_type": "markdown",
   "id": "1d5f8315",
   "metadata": {},
   "source": [
    "### Чтение из ClickHouse"
   ]
  },
  {
   "cell_type": "code",
   "execution_count": 3,
   "id": "753f1826",
   "metadata": {},
   "outputs": [
    {
     "name": "stderr",
     "output_type": "stream",
     "text": [
      "                                                                                \r"
     ]
    },
    {
     "name": "stdout",
     "output_type": "stream",
     "text": [
      "+----------------+--------+------------------+------------------+-----------+-------------+----------+---------+\n",
      "|energy_kcal_100g|fat_100g|saturated_fat_100g|carbohydrates_100g|sugars_100g|proteins_100g|fiber_100g|salt_100g|\n",
      "+----------------+--------+------------------+------------------+-----------+-------------+----------+---------+\n",
      "|           141.0|     2.7|               0.6|               0.9|        6.2|         30.0|       2.2|      0.4|\n",
      "|           376.0|     1.6|               0.2|               6.7|        1.3|         82.0|       2.9|      1.7|\n",
      "|           230.0|    11.0|               2.0|              25.0|       0.98|         22.0|       9.0|     0.95|\n",
      "|             1.0|     1.0|               1.0|               1.0|        1.0|          1.0|       1.0|      1.0|\n",
      "|           358.0|     2.0|               0.5|               6.7|        1.7|         76.0| 10.714286|      1.5|\n",
      "+----------------+--------+------------------+------------------+-----------+-------------+----------+---------+\n",
      "only showing top 5 rows\n",
      "\n"
     ]
    }
   ],
   "source": [
    "jdbc_url = \"jdbc:clickhouse://localhost:8123/default\"\n",
    "table_name = \"food_features\"\n",
    "\n",
    "df_clickhouse = spark.read \\\n",
    "    .format(\"jdbc\") \\\n",
    "    .option(\"url\", jdbc_url) \\\n",
    "    .option(\"dbtable\", table_name) \\\n",
    "    .option(\"user\", \"mluser\") \\\n",
    "    .option(\"password\", \"superpass\") \\\n",
    "    .option(\"driver\", \"com.clickhouse.jdbc.ClickHouseDriver\") \\\n",
    "    .load()\n",
    "\n",
    "df_clickhouse.show(5)\n"
   ]
  },
  {
   "cell_type": "markdown",
   "id": "0880c6c9",
   "metadata": {},
   "source": [
    "### Кластеризация"
   ]
  },
  {
   "cell_type": "code",
   "execution_count": 9,
   "id": "5111d624",
   "metadata": {},
   "outputs": [
    {
     "name": "stderr",
     "output_type": "stream",
     "text": [
      "25/05/12 17:03:16 WARN InstanceBuilder: Failed to load implementation from:dev.ludovic.netlib.blas.JNIBLAS\n"
     ]
    },
    {
     "name": "stdout",
     "output_type": "stream",
     "text": [
      "Cluster Centers (scaled):\n",
      "Cluster 0: [ 1.36052504  2.1108255   0.48297574 -0.54774162 -0.40336896  1.29015624\n",
      "  0.9241092   0.12377597]\n",
      "Cluster 1: [ 0.89377889  0.6753525   1.48389083  0.89368357  1.62233685 -0.35822342\n",
      " -0.01731781 -0.31044217]\n",
      "Cluster 2: [-0.97395791 -0.66676657 -0.51116546 -0.8558125  -0.61778491 -0.2251431\n",
      " -0.46162665 -0.10147097]\n",
      "Cluster 3: [ 0.48780763 -0.02160034 -0.24204705  0.9313297   0.11796585 -0.1479884\n",
      "  0.14208851  0.27347042]\n",
      "Cluster 4: [ 0.22485821 -0.34538307 -0.19454464 -0.16672412 -0.31881925  3.42290249\n",
      "  3.12313503  0.25241932]\n"
     ]
    }
   ],
   "source": [
    "from pyspark.ml.feature import VectorAssembler, StandardScaler\n",
    "from pyspark.ml.clustering import KMeans\n",
    "from pyspark.ml import Pipeline\n",
    "\n",
    "assembler = VectorAssembler(\n",
    "    inputCols=features,\n",
    "    outputCol=\"features_raw\"\n",
    ")\n",
    "\n",
    "scaler = StandardScaler(\n",
    "    inputCol=\"features_raw\",\n",
    "    outputCol=\"features\",\n",
    "    withMean=True,\n",
    "    withStd=True\n",
    ")\n",
    "\n",
    "CLUSTER_COUNT = 5\n",
    "seed = 42\n",
    "\n",
    "kmeans = KMeans(k=CLUSTER_COUNT, seed=seed, featuresCol=\"features\")\n",
    "\n",
    "pipeline = Pipeline(stages=[assembler, scaler, kmeans])\n",
    "\n",
    "model = pipeline.fit(df_clickhouse)\n",
    "predictions = model.transform(df_clickhouse)\n",
    "\n",
    "kmeans_model = model.stages[-1]\n",
    "\n",
    "centers = kmeans_model.clusterCenters()\n",
    "print(\"Cluster Centers (scaled):\")\n",
    "for i, c in enumerate(centers):\n",
    "    print(f\"Cluster {i}:\", c)\n"
   ]
  },
  {
   "cell_type": "code",
   "execution_count": 10,
   "id": "d97123a2",
   "metadata": {},
   "outputs": [
    {
     "data": {
      "text/plain": [
       "[8880, 16971, 43102, 28968, 2516]"
      ]
     },
     "execution_count": 10,
     "metadata": {},
     "output_type": "execute_result"
    }
   ],
   "source": [
    "kmeans_model.summary.clusterSizes"
   ]
  },
  {
   "cell_type": "markdown",
   "id": "8a26c93c",
   "metadata": {},
   "source": [
    "### Метрика"
   ]
  },
  {
   "cell_type": "code",
   "execution_count": 11,
   "id": "c306adcb",
   "metadata": {},
   "outputs": [
    {
     "name": "stdout",
     "output_type": "stream",
     "text": [
      "Silhouette Score = 0.4789\n"
     ]
    }
   ],
   "source": [
    "from pyspark.ml.evaluation import ClusteringEvaluator\n",
    "\n",
    "evaluator = ClusteringEvaluator()\n",
    "\n",
    "silhouette = evaluator.evaluate(predictions)\n",
    "print(f\"Silhouette Score = {silhouette:.4f}\")"
   ]
  }
 ],
 "metadata": {
  "kernelspec": {
   "display_name": "venv",
   "language": "python",
   "name": "python3"
  },
  "language_info": {
   "codemirror_mode": {
    "name": "ipython",
    "version": 3
   },
   "file_extension": ".py",
   "mimetype": "text/x-python",
   "name": "python",
   "nbconvert_exporter": "python",
   "pygments_lexer": "ipython3",
   "version": "3.10.17"
  }
 },
 "nbformat": 4,
 "nbformat_minor": 5
}
